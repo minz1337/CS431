{
  "nbformat": 4,
  "nbformat_minor": 0,
  "metadata": {
    "colab": {
      "name": "Demo.ipynb",
      "provenance": [],
      "toc_visible": true,
      "authorship_tag": "ABX9TyPhgJ7hu74APhiD5/0uV32G",
      "include_colab_link": true
    },
    "kernelspec": {
      "name": "python3",
      "display_name": "Python 3"
    },
    "language_info": {
      "name": "python"
    }
  },
  "cells": [
    {
      "cell_type": "markdown",
      "metadata": {
        "id": "view-in-github",
        "colab_type": "text"
      },
      "source": [
        "<a href=\"https://colab.research.google.com/github/minz1337/CS431/blob/main/GD3/Demo.ipynb\" target=\"_parent\"><img src=\"https://colab.research.google.com/assets/colab-badge.svg\" alt=\"Open In Colab\"/></a>"
      ]
    },
    {
      "cell_type": "markdown",
      "source": [
        "# Bước 1: Chuẩn bị dữ liệu"
      ],
      "metadata": {
        "id": "yILCE9KcZ4MG"
      }
    },
    {
      "cell_type": "code",
      "source": [
        "import math\n",
        "import numpy as np\n",
        "import matplotlib.pyplot as plt"
      ],
      "metadata": {
        "id": "5p9zYVdeaPjD"
      },
      "execution_count": 7,
      "outputs": []
    },
    {
      "cell_type": "code",
      "source": [
        "sin_wave = np.array([math.sin(x) for x in np.arange(200)])"
      ],
      "metadata": {
        "id": "yGmfSj4baTcP"
      },
      "execution_count": 3,
      "outputs": []
    },
    {
      "cell_type": "code",
      "source": [
        "plt.plot(sin_wave[:50])"
      ],
      "metadata": {
        "colab": {
          "base_uri": "https://localhost:8080/",
          "height": 282
        },
        "id": "W9ZxyLqlaYgI",
        "outputId": "3aedf682-8e48-472a-d63c-2acc8bbdcc96"
      },
      "execution_count": 8,
      "outputs": [
        {
          "output_type": "execute_result",
          "data": {
            "text/plain": [
              "[<matplotlib.lines.Line2D at 0x7f0604ff0fd0>]"
            ]
          },
          "metadata": {},
          "execution_count": 8
        },
        {
          "output_type": "display_data",
          "data": {
            "text/plain": [
              "<Figure size 432x288 with 1 Axes>"
            ],
            "image/png": "[encoded data removed]"
          },
          "metadata": {
            "needs_background": "light"
          }
        }
      ]
    },
    {
      "cell_type": "code",
      "source": [
        "X = []\n",
        "Y = []\n",
        "\n",
        "seq_len = 50\n",
        "num_records = len(sin_wave) - seq_len\n",
        "\n",
        "for i in range(num_records - 50):\n",
        "    X.append(sin_wave[i:i+seq_len])\n",
        "    Y.append(sin_wave[i+seq_len])\n",
        "    \n",
        "X = np.array(X)\n",
        "X = np.expand_dims(X, axis=2)\n",
        "\n",
        "Y = np.array(Y)\n",
        "Y = np.expand_dims(Y, axis=1)"
      ],
      "metadata": {
        "id": "IFkmUbofa0XB"
      },
      "execution_count": 9,
      "outputs": []
    },
    {
      "cell_type": "code",
      "source": [
        "X.shape, Y.shape"
      ],
      "metadata": {
        "colab": {
          "base_uri": "https://localhost:8080/"
        },
        "id": "ECSvMNGQa3pD",
        "outputId": "81a154fd-e12b-4f6f-f519-d96939be2b65"
      },
      "execution_count": 10,
      "outputs": [
        {
          "output_type": "execute_result",
          "data": {
            "text/plain": [
              "((100, 50, 1), (100, 1))"
            ]
          },
          "metadata": {},
          "execution_count": 10
        }
      ]
    },
    {
      "cell_type": "code",
      "source": [
        "X_val = []\n",
        "Y_val = []\n",
        "\n",
        "for i in range(num_records - 50, num_records):\n",
        "    X_val.append(sin_wave[i:i+seq_len])\n",
        "    Y_val.append(sin_wave[i+seq_len])\n",
        "    \n",
        "X_val = np.array(X_val)\n",
        "X_val = np.expand_dims(X_val, axis=2)\n",
        "\n",
        "Y_val = np.array(Y_val)\n",
        "Y_val = np.expand_dims(Y_val, axis=1)"
      ],
      "metadata": {
        "id": "xkMUfh1Sa_yZ"
      },
      "execution_count": 11,
      "outputs": []
    },
    {
      "cell_type": "markdown",
      "source": [
        "# Bước 2: Khởi tạo mô hình RNN\n"
      ],
      "metadata": {
        "id": "fjEfRUV_bAeS"
      }
    },
    {
      "cell_type": "code",
      "source": [
        "learning_rate = 0.0001    \n",
        "nepoch = 25               \n",
        "T = 50                   # length of sequence\n",
        "hidden_dim = 100         \n",
        "output_dim = 1\n",
        "\n",
        "bptt_truncate = 5\n",
        "min_clip_value = -10\n",
        "max_clip_value = 10"
      ],
      "metadata": {
        "id": "Db7jr0e2bKXd"
      },
      "execution_count": 12,
      "outputs": []
    },
    {
      "cell_type": "code",
      "source": [
        "U = np.random.uniform(0, 1, (hidden_dim, T))\n",
        "W = np.random.uniform(0, 1, (hidden_dim, hidden_dim))\n",
        "V = np.random.uniform(0, 1, (output_dim, hidden_dim))"
      ],
      "metadata": {
        "id": "DX_uUa4fbNaf"
      },
      "execution_count": 13,
      "outputs": []
    },
    {
      "cell_type": "code",
      "source": [
        "def sigmoid(x):\n",
        "    return 1 / (1 + np.exp(-x))"
      ],
      "metadata": {
        "id": "3WSAFRPlbQLd"
      },
      "execution_count": 14,
      "outputs": []
    },
    {
      "cell_type": "markdown",
      "source": [
        "# Bước 3: Train Model\n"
      ],
      "metadata": {
        "id": "4Xa-ljN5bZMO"
      }
    },
    {
      "cell_type": "code",
      "source": [
        "for epoch in range(nepoch):\n",
        "\n",
        "    loss = 0.0\n",
        "    \n",
        "\n",
        "    for i in range(Y.shape[0]):\n",
        "        x, y = X[i], Y[i]                    \n",
        "        prev_s = np.zeros((hidden_dim, 1))   \n",
        "        for t in range(T):\n",
        "            new_input = np.zeros(x.shape)    \n",
        "            new_input[t] = x[t]             \n",
        "            mulu = np.dot(U, new_input)\n",
        "            mulw = np.dot(W, prev_s)\n",
        "            add = mulw + mulu\n",
        "            s = sigmoid(add)\n",
        "            mulv = np.dot(V, s)\n",
        "            prev_s = s\n",
        "\n",
        "\n",
        "        loss_per_record = (y - mulv)**2 / 2\n",
        "        loss += loss_per_record\n",
        "    loss = loss / float(y.shape[0])\n",
        "    val_loss = 0.0\n",
        "    for i in range(Y_val.shape[0]):\n",
        "        x, y = X_val[i], Y_val[i]\n",
        "        prev_s = np.zeros((hidden_dim, 1))\n",
        "        for t in range(T):\n",
        "            new_input = np.zeros(x.shape)\n",
        "            new_input[t] = x[t]\n",
        "            mulu = np.dot(U, new_input)\n",
        "            mulw = np.dot(W, prev_s)\n",
        "            add = mulw + mulu\n",
        "            s = sigmoid(add)\n",
        "            mulv = np.dot(V, s)\n",
        "            prev_s = s\n",
        "\n",
        "        loss_per_record = (y - mulv)**2 / 2\n",
        "        val_loss += loss_per_record\n",
        "    val_loss = val_loss / float(y.shape[0])\n",
        "\n",
        "    print('Epoch: ', epoch + 1, ', Loss: ', loss, ', Val Loss: ', val_loss)\n",
        "    for i in range(Y.shape[0]):\n",
        "        x, y = X[i], Y[i]\n",
        "    \n",
        "        layers = []\n",
        "        prev_s = np.zeros((hidden_dim, 1))\n",
        "        dU = np.zeros(U.shape)\n",
        "        dV = np.zeros(V.shape)\n",
        "        dW = np.zeros(W.shape)\n",
        "        \n",
        "        dU_t = np.zeros(U.shape)\n",
        "        dV_t = np.zeros(V.shape)\n",
        "        dW_t = np.zeros(W.shape)\n",
        "        \n",
        "        dU_i = np.zeros(U.shape)\n",
        "        dW_i = np.zeros(W.shape)\n",
        "        \n",
        "        for t in range(T):\n",
        "            new_input = np.zeros(x.shape)\n",
        "            new_input[t] = x[t]\n",
        "            mulu = np.dot(U, new_input)\n",
        "            mulw = np.dot(W, prev_s)\n",
        "            add = mulw + mulu\n",
        "            s = sigmoid(add)\n",
        "            mulv = np.dot(V, s)\n",
        "            layers.append({'s':s, 'prev_s':prev_s})\n",
        "            prev_s = s\n",
        "\n",
        "        dmulv = (mulv - y)\n",
        "\n",
        "        for t in range(T):\n",
        "            dV_t = np.dot(dmulv, np.transpose(layers[t]['s']))\n",
        "            dsv = np.dot(np.transpose(V), dmulv)\n",
        "            \n",
        "            ds = dsv\n",
        "            dadd = add * (1 - add) * ds\n",
        "            \n",
        "            dmulw = dadd * np.ones_like(mulw)\n",
        "\n",
        "            dprev_s = np.dot(np.transpose(W), dmulw)\n",
        "\n",
        "\n",
        "            for i in range(t-1, max(-1, t-bptt_truncate-1), -1):\n",
        "                ds = dsv + dprev_s\n",
        "                dadd = add * (1 - add) * ds\n",
        "\n",
        "                dmulw = dadd * np.ones_like(mulw)\n",
        "                dmulu = dadd * np.ones_like(mulu)\n",
        "\n",
        "                dW_i = np.dot(W, layers[t]['prev_s'])\n",
        "                dprev_s = np.dot(np.transpose(W), dmulw)\n",
        "\n",
        "                new_input = np.zeros(x.shape)\n",
        "                new_input[t] = x[t]\n",
        "                dU_i = np.dot(U, new_input)\n",
        "                dx = np.dot(np.transpose(U), dmulu)\n",
        "\n",
        "                dU_t += dU_i\n",
        "                dW_t += dW_i\n",
        "                \n",
        "            dV += dV_t\n",
        "            dU += dU_t\n",
        "            dW += dW_t\n",
        "            if dU.max() > max_clip_value:\n",
        "              dU[dU > max_clip_value] = max_clip_value\n",
        "            if dV.max() > max_clip_value:\n",
        "                dV[dV > max_clip_value] = max_clip_value\n",
        "            if dW.max() > max_clip_value:\n",
        "                dW[dW > max_clip_value] = max_clip_value\n",
        "                \n",
        "            \n",
        "            if dU.min() < min_clip_value:\n",
        "                dU[dU < min_clip_value] = min_clip_value\n",
        "            if dV.min() < min_clip_value:\n",
        "                dV[dV < min_clip_value] = min_clip_value\n",
        "            if dW.min() < min_clip_value:\n",
        "                dW[dW < min_clip_value] = min_clip_value\n",
        "              \n",
        "\n",
        "            U -= learning_rate * dU\n",
        "            V -= learning_rate * dV\n",
        "            W -= learning_rate * dW"
      ],
      "metadata": {
        "colab": {
          "base_uri": "https://localhost:8080/"
        },
        "id": "vtThGRcEbfDI",
        "outputId": "021fbb81-e13d-4056-b5e2-6196fb0b4ebc"
      },
      "execution_count": 19,
      "outputs": [
        {
          "output_type": "stream",
          "name": "stdout",
          "text": [
            "Epoch:  1 , Loss:  [[120039.23190142]] , Val Loss:  [[60017.68638778]]\n",
            "Epoch:  2 , Loss:  [[78.25715575]] , Val Loss:  [[39.12171453]]\n",
            "Epoch:  3 , Loss:  [[46.23906399]] , Val Loss:  [[23.10087382]]\n",
            "Epoch:  4 , Loss:  [[143.66616562]] , Val Loss:  [[71.71144111]]\n",
            "Epoch:  5 , Loss:  [[64.56875688]] , Val Loss:  [[32.21997915]]\n",
            "Epoch:  6 , Loss:  [[451.91663038]] , Val Loss:  [[225.95729962]]\n",
            "Epoch:  7 , Loss:  [[72.52127826]] , Val Loss:  [[36.25119647]]\n",
            "Epoch:  8 , Loss:  [[435.51410825]] , Val Loss:  [[217.77009207]]\n",
            "Epoch:  9 , Loss:  [[75.49798775]] , Val Loss:  [[37.75164841]]\n",
            "Epoch:  10 , Loss:  [[165.94558578]] , Val Loss:  [[82.98012595]]\n",
            "Epoch:  11 , Loss:  [[77.80303434]] , Val Loss:  [[38.89249155]]\n",
            "Epoch:  12 , Loss:  [[171.21958282]] , Val Loss:  [[85.61244172]]\n",
            "Epoch:  13 , Loss:  [[40.8842826]] , Val Loss:  [[20.42479467]]\n",
            "Epoch:  14 , Loss:  [[220.94783848]] , Val Loss:  [[110.47924819]]\n",
            "Epoch:  15 , Loss:  [[306.01301561]] , Val Loss:  [[153.0300604]]\n",
            "Epoch:  16 , Loss:  [[87.49491963]] , Val Loss:  [[43.73832751]]\n",
            "Epoch:  17 , Loss:  [[161.91460045]] , Val Loss:  [[80.96587277]]\n",
            "Epoch:  18 , Loss:  [[55.69034589]] , Val Loss:  [[27.76784709]]\n",
            "Epoch:  19 , Loss:  [[560.24612226]] , Val Loss:  [[280.18138155]]\n",
            "Epoch:  20 , Loss:  [[457.64834971]] , Val Loss:  [[228.87212658]]\n",
            "Epoch:  21 , Loss:  [[439.37752496]] , Val Loss:  [[219.76696548]]\n",
            "Epoch:  22 , Loss:  [[32.809624]] , Val Loss:  [[16.37822266]]\n",
            "Epoch:  23 , Loss:  [[354.16608589]] , Val Loss:  [[177.09717754]]\n",
            "Epoch:  24 , Loss:  [[186.89585167]] , Val Loss:  [[93.48380123]]\n",
            "Epoch:  25 , Loss:  [[544.3198383]] , Val Loss:  [[272.18704458]]\n"
          ]
        }
      ]
    },
    {
      "cell_type": "markdown",
      "source": [
        "# Bước 4: Predict Model"
      ],
      "metadata": {
        "id": "BfmALc-_cuNb"
      }
    },
    {
      "cell_type": "code",
      "source": [
        "preds = []\n",
        "for i in range(Y.shape[0]):\n",
        "    x, y = X[i], Y[i]\n",
        "    prev_s = np.zeros((hidden_dim, 1))\n",
        "    for t in range(T):\n",
        "        mulu = np.dot(U, x)\n",
        "        mulw = np.dot(W, prev_s)\n",
        "        add = mulw + mulu\n",
        "        s = sigmoid(add)\n",
        "        mulv = np.dot(V, s)\n",
        "        prev_s = s\n",
        "\n",
        "    preds.append(mulv)\n",
        "preds = np.array(preds)"
      ],
      "metadata": {
        "id": "gBVPNlU4cxZl"
      },
      "execution_count": 21,
      "outputs": []
    },
    {
      "cell_type": "code",
      "source": [
        "plt.plot(preds[:, 0, 0], 'g')\n",
        "plt.plot(Y[:, 0], 'r')\n",
        "plt.show()"
      ],
      "metadata": {
        "colab": {
          "base_uri": "https://localhost:8080/",
          "height": 265
        },
        "id": "2gbIKZCNc569",
        "outputId": "43cabd54-7058-4b07-cb76-9559cc8aa2d1"
      },
      "execution_count": 22,
      "outputs": [
        {
          "output_type": "display_data",
          "data": {
            "text/plain": [
              "<Figure size 432x288 with 1 Axes>"
            ],
            "image/png": "[encoded data removed]"
          },
          "metadata": {
            "needs_background": "light"
          }
        }
      ]
    }
  ]
}